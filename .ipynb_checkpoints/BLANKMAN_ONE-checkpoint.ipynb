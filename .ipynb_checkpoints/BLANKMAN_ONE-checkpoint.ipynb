{
 "cells": [
  {
   "cell_type": "code",
   "execution_count": 78,
   "metadata": {},
   "outputs": [
    {
     "name": "stderr",
     "output_type": "stream",
     "text": [
      "Using TensorFlow backend.\n"
     ]
    }
   ],
   "source": [
    "import json\n",
    "import re\n",
    "import numpy as np\n",
    "\n",
    "from __future__ import print_function\n",
    "from keras.callbacks import LambdaCallback\n",
    "from keras.models import Sequential\n",
    "from keras.layers import Dense, Activation\n",
    "from keras.layers import LSTM\n",
    "from keras.optimizers import RMSprop\n",
    "from keras.utils.data_utils import get_file\n",
    "import numpy as np\n",
    "import random\n",
    "import sys\n",
    "import io"
   ]
  },
  {
   "cell_type": "code",
   "execution_count": 124,
   "metadata": {},
   "outputs": [],
   "source": [
    "def preprocess_json(json):\n",
    "    tweet_list = [re.sub(r\"[^a-z0-9!#%&\\\"@:\\/\\.\\s\\(\\)\\']\", \" \", data['text'].lower()) for data in j]\n",
    "    tweet_list = [re.sub(r\"\\'\", \"\", tweet) for tweet in tweet_list]\n",
    "    tweet_list = [re.sub(r\"\\n\", \" \", tweet) for tweet in tweet_list]\n",
    "    tweet_list = [re.sub(r\"http[^\\s]+\", \" \", tweet) for tweet in tweet_list]\n",
    "    tweet_list = [re.sub(r\"\\s+\", \" \", tweet) for tweet in tweet_list]\n",
    "    full_text = ' '.join(tweet_list)\n",
    "    # tweet_list = [list(tweet.ljust(140, ' ')) for tweet in tweet_list]\n",
    "    return full_text\n",
    "\n",
    "all_text = \"\"\n",
    "for i in range(2009, 2018):\n",
    "    f = open(\"data/\" + str(i) + \".json\")\n",
    "    data = f.read()\n",
    "    j = json.loads(data)\n",
    "    all_text += (preprocess_json(j)) \n",
    "    f.close()"
   ]
  },
  {
   "cell_type": "code",
   "execution_count": 125,
   "metadata": {},
   "outputs": [
    {
     "data": {
      "text/plain": [
       "3077516"
      ]
     },
     "execution_count": 125,
     "metadata": {},
     "output_type": "execute_result"
    }
   ],
   "source": [
    "len(all_text)"
   ]
  },
  {
   "cell_type": "code",
   "execution_count": null,
   "metadata": {},
   "outputs": [],
   "source": []
  },
  {
   "cell_type": "code",
   "execution_count": 126,
   "metadata": {},
   "outputs": [
    {
     "name": "stdout",
     "output_type": "stream",
     "text": [
      "total chars: 48\n"
     ]
    }
   ],
   "source": [
    "\n",
    "chars = sorted(list(set(text)))\n",
    "print('total chars:', len(chars))\n",
    "char_indices = dict((c, i) for i, c in enumerate(chars))\n",
    "indices_char = dict((i, c) for i, c in enumerate(chars))"
   ]
  },
  {
   "cell_type": "code",
   "execution_count": 127,
   "metadata": {},
   "outputs": [
    {
     "name": "stdout",
     "output_type": "stream",
     "text": [
      "nb sequences: 144917\n"
     ]
    }
   ],
   "source": [
    "\n",
    "# cut the text in semi-redundant sequences of maxlen characters\n",
    "maxlen = 40\n",
    "step = 3\n",
    "sentences = []\n",
    "next_chars = []\n",
    "for i in range(0, len(text) - maxlen, step):\n",
    "    sentences.append(text[i: i + maxlen])\n",
    "    next_chars.append(text[i + maxlen])\n",
    "print('nb sequences:', len(sentences))"
   ]
  },
  {
   "cell_type": "code",
   "execution_count": 128,
   "metadata": {},
   "outputs": [
    {
     "name": "stdout",
     "output_type": "stream",
     "text": [
      "Vectorization...\n"
     ]
    }
   ],
   "source": [
    "\n",
    "\n",
    "print('Vectorization...')\n",
    "x = np.zeros((len(sentences), maxlen, len(chars)), dtype=np.bool)\n",
    "y = np.zeros((len(sentences), len(chars)), dtype=np.bool)\n",
    "for i, sentence in enumerate(sentences):\n",
    "    for t, char in enumerate(sentence):\n",
    "        x[i, t, char_indices[char]] = 1\n",
    "    y[i, char_indices[next_chars[i]]] = 1\n"
   ]
  },
  {
   "cell_type": "code",
   "execution_count": 129,
   "metadata": {},
   "outputs": [
    {
     "name": "stdout",
     "output_type": "stream",
     "text": [
      "Build model...\n"
     ]
    }
   ],
   "source": [
    "\n",
    "\n",
    "# build the model: a single LSTM\n",
    "print('Build model...')\n",
    "model = Sequential()\n",
    "model.add(LSTM(128, input_shape=(maxlen, len(chars))))\n",
    "model.add(Dense(len(chars)))\n",
    "model.add(Activation('softmax'))\n",
    "\n",
    "optimizer = RMSprop(lr=0.01)\n",
    "model.compile(loss='categorical_crossentropy', optimizer=optimizer)\n"
   ]
  },
  {
   "cell_type": "code",
   "execution_count": 130,
   "metadata": {
    "collapsed": true
   },
   "outputs": [],
   "source": [
    "\n",
    "def sample(preds, temperature=1.0):\n",
    "    # helper function to sample an index from a probability array\n",
    "    preds = np.asarray(preds).astype('float64')\n",
    "    preds = np.log(preds) / temperature\n",
    "    exp_preds = np.exp(preds)\n",
    "    preds = exp_preds / np.sum(exp_preds)\n",
    "    probas = np.random.multinomial(1, preds, 1)\n",
    "    return np.argmax(probas)\n"
   ]
  },
  {
   "cell_type": "code",
   "execution_count": 131,
   "metadata": {
    "collapsed": true
   },
   "outputs": [],
   "source": [
    "\n",
    "def on_epoch_end(epoch, logs):\n",
    "    # Function invoked at end of each epoch. Prints generated text.\n",
    "    print()\n",
    "    print('----- Generating text after Epoch: %d' % epoch)\n",
    "\n",
    "    start_index = random.randint(0, len(text) - maxlen - 1)\n",
    "    for diversity in [0.2, 0.5, 1.0, 1.2]:\n",
    "        print('----- diversity:', diversity)\n",
    "\n",
    "        generated = ''\n",
    "        sentence = text[start_index: start_index + maxlen]\n",
    "        generated += sentence\n",
    "        print('----- Generating with seed: \"' + sentence + '\"')\n",
    "        sys.stdout.write(generated)\n",
    "\n",
    "        for i in range(400):\n",
    "            x_pred = np.zeros((1, maxlen, len(chars)))\n",
    "            for t, char in enumerate(sentence):\n",
    "                x_pred[0, t, char_indices[char]] = 1.\n",
    "\n",
    "            preds = model.predict(x_pred, verbose=0)[0]\n",
    "            next_index = sample(preds, diversity)\n",
    "            next_char = indices_char[next_index]\n",
    "\n",
    "            generated += next_char\n",
    "            sentence = sentence[1:] + next_char\n",
    "\n",
    "            sys.stdout.write(next_char)\n",
    "            sys.stdout.flush()\n",
    "        print()\n"
   ]
  },
  {
   "cell_type": "code",
   "execution_count": 132,
   "metadata": {
    "collapsed": true
   },
   "outputs": [],
   "source": [
    "\n",
    "print_callback = LambdaCallback(on_epoch_end=on_epoch_end)\n"
   ]
  },
  {
   "cell_type": "code",
   "execution_count": null,
   "metadata": {
    "scrolled": false
   },
   "outputs": [
    {
     "name": "stdout",
     "output_type": "stream",
     "text": [
      "Epoch 1/60\n",
      "144896/144917 [============================>.] - ETA: 0s - loss: 2.0534\n",
      "----- Generating text after Epoch: 0\n",
      "----- diversity: 0.2\n",
      "----- Generating with seed: \"a rock. i hate to see this. \"@laurencris\"\n",
      "a rock. i hate to see this. \"@laurencristorus: @realdonaldtrump was the the to the for the the realdonald trump the reald to the was to the to the the the really that the really a to the to the the really that the the the the the to the the a to the failing to the really that a to the to the the the really the to the really the of the the the the the the the deal on the a to the president on the a to the the chow and the the comoridn an\n",
      "----- diversity: 0.5\n",
      "----- Generating with seed: \"a rock. i hate to see this. \"@laurencris\"\n",
      "a rock. i hate to see this. \"@laurencrischany that is the have a heal for a bore and president for deal will for the of the is that so am on the that coly looking to in shour the president thing to all a to the the have a the a endorsed and moring the never for the the us to the chow dont that the lout me the trump the trump support the sees morners that a to never more not will the the real and the real on the repuense that for reender\n",
      "----- diversity: 1.0\n",
      "----- Generating with seed: \"a rock. i hate to see this. \"@laurencris\"\n",
      "a rock. i hate to see this. \"@laurencrisiv: laokivs exec mude true real spects that g ouch mind shanning they for and not darniest i rut soumm a dow kellst bucli in pith aboloot who for chund cnow noter this thas rust and todve aloe have one have puid. the e are joeengs! sory wasted trump 3xk! a miphmarns. carymall. strump do bad lyve rushonaro st corong a grooke the in r get you get allatee\" who was there she to rellieteatume a froelse\n",
      "----- diversity: 1.2\n",
      "----- Generating with seed: \"a rock. i hate to see this. \"@laurencris\"\n",
      "a rock. i hate to see this. \"@laurencrisidfelendsat fornice fillmy tlake doinge endly  thank yoh cruz our .rrub nildotal thage #ma4tad \"@rakcatuglen:@ervcorbcil: @ucpoul hillary is forked for dean1/dify un ofberie horder undeat carch invinee. ayher tertfbonia.  will ix ked to for whe edrinss. thank you and erictiffat\" the @renuboly. not amaroor to so mad! #leayrue great fecewa we that do wory! #druteyousmerronngy so just is there! the t\n",
      "144917/144917 [==============================] - 159s 1ms/step - loss: 2.0533\n",
      "Epoch 2/60\n",
      " 53120/144917 [=========>....................] - ETA: 1:26 - loss: 1.6650"
     ]
    }
   ],
   "source": [
    "\n",
    "model.fit(x, y,\n",
    "          batch_size=128,\n",
    "          epochs=60,\n",
    "callbacks=[print_callback])"
   ]
  },
  {
   "cell_type": "code",
   "execution_count": null,
   "metadata": {
    "collapsed": true
   },
   "outputs": [],
   "source": []
  },
  {
   "cell_type": "code",
   "execution_count": null,
   "metadata": {
    "collapsed": true
   },
   "outputs": [],
   "source": []
  },
  {
   "cell_type": "code",
   "execution_count": null,
   "metadata": {},
   "outputs": [],
   "source": []
  },
  {
   "cell_type": "code",
   "execution_count": null,
   "metadata": {
    "collapsed": true
   },
   "outputs": [],
   "source": []
  },
  {
   "cell_type": "code",
   "execution_count": null,
   "metadata": {
    "collapsed": true
   },
   "outputs": [],
   "source": []
  }
 ],
 "metadata": {
  "kernelspec": {
   "display_name": "Python 3",
   "language": "python",
   "name": "python3"
  },
  "language_info": {
   "codemirror_mode": {
    "name": "ipython",
    "version": 3
   },
   "file_extension": ".py",
   "mimetype": "text/x-python",
   "name": "python",
   "nbconvert_exporter": "python",
   "pygments_lexer": "ipython3",
   "version": "3.6.1"
  }
 },
 "nbformat": 4,
 "nbformat_minor": 2
}
